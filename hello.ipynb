{
 "cells": [
  {
   "cell_type": "code",
   "execution_count": 3,
   "metadata": {},
   "outputs": [
    {
     "name": "stdout",
     "output_type": "stream",
     "text": [
      "0;Hello python;3.9.12\n",
      "1;Hello python;3.9.12\n",
      "2;Hello python;3.9.12\n",
      "3;Hello python;3.9.12\n",
      "4;Hello python;3.9.12\n",
      "5;Hello python;3.9.12\n",
      "6;Hello python;3.9.12\n",
      "7;Hello python;3.9.12\n",
      "8;Hello python;3.9.12\n",
      "9;Hello python;3.9.12\n"
     ]
    }
   ],
   "source": [
    "#!/usr/bin/env python\n",
    "# -*- coding=utf-8 -*-\n",
    "from platform import python_version\n",
    "from __future__ import print_function\n",
    "\n",
    "f = open(\"hello.txt\", \"w\")\n",
    "for i in range(10):\n",
    "    print(i, \"Hello python\", python_version(), sep=\";\")\n",
    "    print(i, \"Hello python\", python_version(), sep=\";\", end=\"\\n\", file=f)\n",
    "f.close()"
   ]
  },
  {
   "cell_type": "code",
   "execution_count": null,
   "metadata": {
    "collapsed": true
   },
   "outputs": [],
   "source": []
  }
 ],
 "metadata": {
  "kernelspec": {
   "display_name": "Python 3.9.12 ('myenv')",
   "language": "python",
   "name": "python3"
  },
  "language_info": {
   "codemirror_mode": {
    "name": "ipython",
    "version": 3
   },
   "file_extension": ".py",
   "mimetype": "text/x-python",
   "name": "python",
   "nbconvert_exporter": "python",
   "pygments_lexer": "ipython3",
   "version": "3.9.12"
  },
  "vscode": {
   "interpreter": {
    "hash": "8498851fdb8f20aac0be0c513133504d41018d140b7992e21b4a91b7f62ead50"
   }
  }
 },
 "nbformat": 4,
 "nbformat_minor": 2
}
